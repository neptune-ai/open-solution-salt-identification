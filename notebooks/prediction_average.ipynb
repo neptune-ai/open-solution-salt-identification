{
 "cells": [
  {
   "cell_type": "code",
   "execution_count": null,
   "metadata": {},
   "outputs": [],
   "source": [
    "import sys\n",
    "sys.path.append('../')\n",
    "\n",
    "import os\n",
    "\n",
    "import numpy as np\n",
    "import pandas as pd\n",
    "from PIL import Image\n",
    "from sklearn.externals import joblib\n",
    "from tqdm import tqdm_notebook as tqdm\n",
    "\n",
    "from common_blocks.utils import run_length_encoding\n",
    "from common_blocks.metrics import compute_eval_metric\n",
    "\n",
    "\n",
    "METADATA_FILEPATH = 'YOUR/metadata.csv'\n",
    "OUT_OF_FOLD_TRAIN_RESULTS_FILEPATH = 'YOUR/out_of_fold_train_predictions.pkl'\n",
    "\n",
    "METADATA_FILEPATH = '/mnt/ml-team/minerva/open-solutions/salt/files/metadata.csv'\n",
    "MODEL_DIRPATH = '/mnt/ml-team/minerva/open-solutions/salt/files/out_of_fold_predictions'\n",
    "EXPERIMENTS = [ 'sal_1574_cv_825_lb_840',\n",
    " 'sal_1890_cv_834_lb_840',\n",
    " 'sal_1980_cv_846_lb_846',\n",
    " 'sal_1976_cv_849_lb_847',\n",
    " 'sal_1977_cv_849_lb_847',\n",
    " 'sal_2003_cv_833_lb_840',\n",
    " 'sal_2036_cv_850_lb_847',\n",
    " 'sal_2148_cv_849_lb_848',\n",
    " 'sal_2140_cv_850_lb_848',\n",
    " 'sal_2151_cv_850_lb_848',\n",
    " 'sal_2103_cv_836_lb_841',\n",
    " 'sal_2173_cv_851_lb_848',\n",
    " 'sal_2163_cv_851_lb_848'\n",
    "              ]\n",
    "\n",
    "OUT_OF_FOLD_TRAIN_PREDICTIONS = ['{}/{}/out_of_fold_train_predictions.pkl'.format(MODEL_DIRPATH, experiment)\n",
    "                                for experiment in EXPERIMENTS]\n",
    "\n",
    "OUT_OF_FOLD_TEST_PREDICTIONS = ['{}/{}/out_of_fold_test_predictions.pkl'.format(MODEL_DIRPATH, experiment)\n",
    "                                for experiment in EXPERIMENTS]"
   ]
  },
  {
   "cell_type": "code",
   "execution_count": null,
   "metadata": {},
   "outputs": [],
   "source": [
    "display(os.listdir(MODEL_DIRPATH))"
   ]
  },
  {
   "cell_type": "code",
   "execution_count": null,
   "metadata": {},
   "outputs": [],
   "source": [
    "def load_img(path):\n",
    "    img = np.array(Image.open(path))\n",
    "    return img"
   ]
  },
  {
   "cell_type": "code",
   "execution_count": null,
   "metadata": {},
   "outputs": [],
   "source": [
    "metadata = pd.read_csv(METADATA_FILEPATH)\n",
    "metadata.head()"
   ]
  },
  {
   "cell_type": "markdown",
   "metadata": {},
   "source": [
    "# Average out of fold predictions"
   ]
  },
  {
   "cell_type": "code",
   "execution_count": null,
   "metadata": {},
   "outputs": [],
   "source": [
    "oof_train = joblib.load(OUT_OF_FOLD_TRAIN_PREDICTIONS[0])\n",
    "\n",
    "mean_train_predictions = {idx:np.zeros((101,101)) for idx in oof_train['ids']}\n",
    "\n",
    "for filepath in tqdm(OUT_OF_FOLD_TRAIN_PREDICTIONS):\n",
    "    oof_train = joblib.load(filepath)\n",
    "    ids, images = oof_train['ids'], oof_train['images']\n",
    "    for idx, image in zip(ids, images):\n",
    "        mask = image[1,:,:]\n",
    "        mean_train_predictions[idx]+=mask\n",
    "\n",
    "mean_train_predictions = {idx:1.0 * m/len(OUT_OF_FOLD_TRAIN_PREDICTIONS) \n",
    "                          for idx, m in mean_train_predictions.items()}"
   ]
  },
  {
   "cell_type": "code",
   "execution_count": null,
   "metadata": {
    "scrolled": false
   },
   "outputs": [],
   "source": [
    "THRESHOLD = 0.3\n",
    "MIN_SIZE = 0.0\n",
    "\n",
    "iouts = []\n",
    "for image_id, prediction_map in tqdm(mean_train_predictions.items()):\n",
    "    mask = (prediction_map > THRESHOLD).astype(np.uint8)\n",
    "    if mask.sum() < MIN_SIZE:\n",
    "        mask = np.zeros_like(mask)\n",
    "    ground_truth = load_img(metadata[metadata['id']==image_id]['file_path_mask'].values[0])\n",
    "    ground_truth = (ground_truth > 0).astype(np.uint8)\n",
    "    iout = compute_eval_metric(ground_truth, mask)\n",
    "    iouts.append(iout)\n",
    "print('IOUT {}'.format(np.mean(iouts)))"
   ]
  },
  {
   "cell_type": "markdown",
   "metadata": {},
   "source": [
    "# Average test predictions"
   ]
  },
  {
   "cell_type": "code",
   "execution_count": null,
   "metadata": {},
   "outputs": [],
   "source": [
    "oof_test = joblib.load(OUT_OF_FOLD_TEST_PREDICTIONS[0])\n",
    "\n",
    "mean_test_predictions = {idx:np.zeros((101,101)) for idx in oof_test['ids']}\n",
    "\n",
    "for filepath in tqdm(OUT_OF_FOLD_TEST_PREDICTIONS):\n",
    "    oof_test = joblib.load(filepath)\n",
    "    ids, images = oof_test['ids'], oof_test['images']\n",
    "    for idx, image in zip(ids, images):\n",
    "        mask = image[1,:,:]\n",
    "        mean_test_predictions[idx]+=mask\n",
    "\n",
    "mean_test_predictions = {idx:1.0 * m/len(OUT_OF_FOLD_TEST_PREDICTIONS) \n",
    "                          for idx, m in mean_test_predictions.items()}"
   ]
  },
  {
   "cell_type": "code",
   "execution_count": null,
   "metadata": {},
   "outputs": [],
   "source": [
    "output = []\n",
    "for image_id, prediction_map in tqdm(mean_test_predictions.items()):\n",
    "    mask = (prediction_map > THRESHOLD).astype(np.uint8)\n",
    "    if mask.sum() < MIN_SIZE:\n",
    "        mask = np.zeros_like(mask)\n",
    "    rle_encoded = ' '.join(str(rle) for rle in run_length_encoding(mask))\n",
    "    output.append([image_id, rle_encoded])\n",
    "\n",
    "submission = pd.DataFrame(output, columns=['id', 'rle_mask']).astype(str)"
   ]
  },
  {
   "cell_type": "code",
   "execution_count": null,
   "metadata": {},
   "outputs": [],
   "source": [
    "submission.to_csv(os.path.join(MODEL_DIRPATH, 'prediction_average_cv_850_lb_xxx.csv'),index=None)"
   ]
  },
  {
   "cell_type": "code",
   "execution_count": null,
   "metadata": {},
   "outputs": [],
   "source": []
  }
 ],
 "metadata": {
  "kernelspec": {
   "display_name": "py_36",
   "language": "python",
   "name": "py_36"
  },
  "language_info": {
   "codemirror_mode": {
    "name": "ipython",
    "version": 3
   },
   "file_extension": ".py",
   "mimetype": "text/x-python",
   "name": "python",
   "nbconvert_exporter": "python",
   "pygments_lexer": "ipython3",
   "version": "3.6.8"
  }
 },
 "nbformat": 4,
 "nbformat_minor": 2
}
