{
 "cells": [
  {
   "cell_type": "code",
   "execution_count": null,
   "metadata": {},
   "outputs": [],
   "source": [
    "%matplotlib inline\n",
    "\n",
    "import sys\n",
    "sys.path.append('../')\n",
    "\n",
    "import numpy as np\n",
    "import glob\n",
    "from PIL import Image\n",
    "import matplotlib.pyplot as plt\n",
    "\n",
    "from src.augmentation import iaa\n",
    "from src.utils import plot_list"
   ]
  },
  {
   "cell_type": "code",
   "execution_count": null,
   "metadata": {},
   "outputs": [],
   "source": [
    "IMG_DIR = 'YOUR/DIR'\n",
    "IMG_IDX = 18\n",
    "img_filepath = sorted(glob.glob('{}/*'.format(IMG_DIR)))[IMG_IDX]\n",
    "img = np.array(Image.open(img_filepath))\n",
    "plt.imshow(img)"
   ]
  },
  {
   "cell_type": "markdown",
   "metadata": {},
   "source": [
    "# Affine augmentations"
   ]
  },
  {
   "cell_type": "code",
   "execution_count": null,
   "metadata": {},
   "outputs": [],
   "source": [
    "affine_seq = iaa.Sequential([\n",
    "#     General\n",
    "    iaa.SomeOf((1, 2),\n",
    "               [iaa.Fliplr(0.5),\n",
    "                iaa.Affine(rotate=(-10, 10),\n",
    "                           translate_percent={\"x\": (-0.25, 0.25)}, mode='symmetric'),\n",
    "                ]),\n",
    "#     Deformations\n",
    "    iaa.Sometimes(0.3, iaa.PiecewiseAffine(scale=(0.04, 0.08))),\n",
    "    iaa.Sometimes(0.3, iaa.PerspectiveTransform(scale=(0.05, 0.1))),\n",
    "], random_order=True)\n"
   ]
  },
  {
   "cell_type": "code",
   "execution_count": null,
   "metadata": {},
   "outputs": [],
   "source": [
    "AUG_NR = 6\n",
    "aug_imgs = []\n",
    "for _ in range(AUG_NR):\n",
    "    aug_img = affine_seq.augment_image(img)\n",
    "    aug_imgs.append(aug_img)\n",
    "plot_list(images=aug_imgs)"
   ]
  },
  {
   "cell_type": "markdown",
   "metadata": {},
   "source": [
    "# Intensity Augmentations"
   ]
  },
  {
   "cell_type": "code",
   "execution_count": null,
   "metadata": {},
   "outputs": [],
   "source": [
    "intensity_seq = iaa.Sequential([\n",
    "    iaa.Invert(0.3),\n",
    "    iaa.Sometimes(0.3, iaa.ContrastNormalization((0.5, 1.5))),\n",
    "    iaa.OneOf([\n",
    "        iaa.Noop(),\n",
    "        iaa.Sequential([\n",
    "            iaa.OneOf([\n",
    "                iaa.Add((-10, 10)),\n",
    "                iaa.AddElementwise((-10, 10)),\n",
    "                iaa.Multiply((0.95, 1.05)),\n",
    "                iaa.MultiplyElementwise((0.95, 1.05)),\n",
    "            ]),\n",
    "        ]),\n",
    "        iaa.OneOf([\n",
    "            iaa.GaussianBlur(sigma=(0.0, 1.0)),\n",
    "            iaa.AverageBlur(k=(2, 5)),\n",
    "            iaa.MedianBlur(k=(3, 5))\n",
    "        ])\n",
    "    ])\n",
    "], random_order=False)"
   ]
  },
  {
   "cell_type": "code",
   "execution_count": null,
   "metadata": {},
   "outputs": [],
   "source": [
    "AUG_NR = 6\n",
    "aug_imgs = []\n",
    "for _ in range(AUG_NR):\n",
    "    aug_img = intensity_seq.augment_image(img)\n",
    "    aug_imgs.append(aug_img)\n",
    "plot_list(images=aug_imgs)"
   ]
  },
  {
   "cell_type": "code",
   "execution_count": null,
   "metadata": {},
   "outputs": [],
   "source": []
  },
  {
   "cell_type": "code",
   "execution_count": null,
   "metadata": {},
   "outputs": [],
   "source": []
  }
 ],
 "metadata": {
  "kernelspec": {
   "display_name": "dl_py3",
   "language": "python",
   "name": "dl_py3"
  },
  "language_info": {
   "codemirror_mode": {
    "name": "ipython",
    "version": 3
   },
   "file_extension": ".py",
   "mimetype": "text/x-python",
   "name": "python",
   "nbconvert_exporter": "python",
   "pygments_lexer": "ipython3",
   "version": "3.5.2"
  }
 },
 "nbformat": 4,
 "nbformat_minor": 2
}
