{
 "cells": [
  {
   "cell_type": "code",
   "execution_count": null,
   "metadata": {},
   "outputs": [],
   "source": [
    "%load_ext autoreload\n",
    "%autoreload 2\n",
    "%matplotlib inline\n",
    "\n",
    "import sys\n",
    "sys.path.append('../')\n",
    "\n",
    "import os\n",
    "\n",
    "import numpy as np\n",
    "import pandas as pd\n",
    "from sklearn.externals import joblib\n",
    "from tqdm import tqdm_notebook as tqdm\n",
    "import ipywidgets as ipy\n",
    "import matplotlib.pyplot as plt\n",
    "\n",
    "from common_blocks.utils import plot_list, load_image, save_image, resize_image, get_cut_coordinates\n",
    "\n",
    "METADATA_FILEPATH = '/mnt/ml-team/minerva/open-solutions/salt/files/metadata.csv'\n",
    "IMG_DIR = '/mnt/ml-team/minerva/open-solutions/salt/files/auxiliary_data'\n",
    "IMG_DIR_MASKS =os.path.join(IMG_DIR,'masks')\n",
    "AUXILIARY_METADATA_FILEPATH = '/mnt/ml-team/minerva/open-solutions/salt/files/auxiliary_metadata.csv'"
   ]
  },
  {
   "cell_type": "code",
   "execution_count": null,
   "metadata": {},
   "outputs": [],
   "source": [
    "metadata = pd.read_csv(METADATA_FILEPATH)\n",
    "metadata_train = metadata[metadata['is_train']==1]\n",
    "metadata_train.head()"
   ]
  },
  {
   "cell_type": "markdown",
   "metadata": {},
   "source": [
    "# Filter larger masks"
   ]
  },
  {
   "cell_type": "code",
   "execution_count": null,
   "metadata": {},
   "outputs": [],
   "source": [
    "sizes = []\n",
    "for file_path in tqdm(metadata_train.file_path_mask):\n",
    "    mask = load_image(file_path, is_mask=True)\n",
    "    sizes.append(mask.sum())\n",
    "    \n",
    "metadata_train['size'] = sizes\n",
    "\n",
    "metadata_large_masks = metadata_train[metadata_train['size'].between(300,8000)]\n",
    "metadata_large_masks.head()"
   ]
  },
  {
   "cell_type": "markdown",
   "metadata": {},
   "source": [
    "# Explore cut results"
   ]
  },
  {
   "cell_type": "code",
   "execution_count": null,
   "metadata": {},
   "outputs": [],
   "source": [
    "@ipy.interact(idx=ipy.IntSlider(min=0,max=4000,value=0,step=1))\n",
    "def present_cut(idx):\n",
    "    row = metadata_large_masks.iloc[idx]\n",
    "    image = load_image(row.file_path_image, is_mask=False)\n",
    "    mask = load_image(row.file_path_mask, is_mask=True)\n",
    "    (x1,x2),(y1,y2), was_cropped = get_cut_coordinates(mask,step=4, min_size=50, max_size=300)\n",
    "    if was_cropped:\n",
    "        synthetic_mask = resize_image(mask[x1:x2,y1:y2], (101,101),is_mask=True)\n",
    "        synthetic_image = resize_image(image[x1:x2,y1:y2], (101,101))\n",
    "        plot_list(images=[image, synthetic_image], labels=[mask, synthetic_mask])"
   ]
  },
  {
   "cell_type": "markdown",
   "metadata": {},
   "source": [
    "# Prepare synthetic data"
   ]
  },
  {
   "cell_type": "code",
   "execution_count": null,
   "metadata": {},
   "outputs": [],
   "source": [
    "file_path_images,file_path_masks,ids, zs = [],[],[],[]\n",
    "for _, row in tqdm(metadata_large_masks.iterrows()):\n",
    "    image = load_image(row.file_path_image, is_mask=False)\n",
    "    mask = load_image(row.file_path_mask, is_mask=True)\n",
    "    (x1,x2),(y1,y2), was_cropped = get_cut_coordinates(mask,step=4, min_size=50, max_size=300)\n",
    "    if was_cropped:\n",
    "        synthetic_mask = resize_image(mask[x1:x2,y1:y2], (101,101),is_mask=True).astype(np.uint8)\n",
    "        synthetic_image = (resize_image(image[x1:x2,y1:y2], (101,101))*255.).astype(np.uint8)\n",
    "        idx = row.id\n",
    "        \n",
    "        file_path_image=os.path.join(IMG_DIR,'images','{}.png'.format(idx))\n",
    "        file_path_mask=os.path.join(IMG_DIR,'masks','{}.png'.format(idx))\n",
    "        save_image(synthetic_image, file_path_image)\n",
    "        save_image(synthetic_mask, file_path_mask)\n",
    "        test=load_image(file_path_mask)\n",
    "    \n",
    "        file_path_images.append(file_path_image)\n",
    "        file_path_masks.append(file_path_mask)\n",
    "        ids.append(idx)\n",
    "        zs.append(row.z)"
   ]
  },
  {
   "cell_type": "code",
   "execution_count": null,
   "metadata": {},
   "outputs": [],
   "source": [
    "metadata_small_masks = pd.DataFrame({'file_path_image':file_path_images,\n",
    "                                     'file_path_mask':file_path_masks,\n",
    "                                     'id':ids,\n",
    "                                     'z':zs\n",
    "                                    })\n",
    "metadata_small_masks['is_train']=1"
   ]
  },
  {
   "cell_type": "code",
   "execution_count": null,
   "metadata": {},
   "outputs": [],
   "source": [
    "display(metadata_small_masks.shape)\n",
    "metadata_small_masks.head()"
   ]
  },
  {
   "cell_type": "code",
   "execution_count": null,
   "metadata": {},
   "outputs": [],
   "source": [
    "metadata_small_masks.to_csv(AUXILIARY_METADATA_FILEPATH)"
   ]
  },
  {
   "cell_type": "code",
   "execution_count": null,
   "metadata": {},
   "outputs": [],
   "source": []
  }
 ],
 "metadata": {
  "kernelspec": {
   "display_name": "py_36",
   "language": "python",
   "name": "py_36"
  },
  "language_info": {
   "codemirror_mode": {
    "name": "ipython",
    "version": 3
   },
   "file_extension": ".py",
   "mimetype": "text/x-python",
   "name": "python",
   "nbconvert_exporter": "python",
   "pygments_lexer": "ipython3",
   "version": "3.6.8"
  }
 },
 "nbformat": 4,
 "nbformat_minor": 2
}
