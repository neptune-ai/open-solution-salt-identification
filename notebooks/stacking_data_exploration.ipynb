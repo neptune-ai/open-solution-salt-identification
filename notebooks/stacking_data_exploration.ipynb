{
 "cells": [
  {
   "cell_type": "code",
   "execution_count": null,
   "metadata": {},
   "outputs": [],
   "source": [
    "%matplotlib inline\n",
    "%load_ext autoreload\n",
    "%autoreload 2\n",
    "\n",
    "import sys\n",
    "sys.path.append('../')\n",
    "\n",
    "import numpy as np\n",
    "import pandas as pd\n",
    "import glob\n",
    "import matplotlib.pyplot as plt\n",
    "from sklearn.externals import joblib\n",
    "import ipywidgets as ipy\n",
    "\n",
    "from common_blocks.utils import plot_list, load_image\n",
    "\n",
    "METADATA_FILEPATH = 'YOUR/metadata.csv'\n",
    "METADATA_FILEPATH = '/mnt/ml-team/minerva/open-solutions/salt/files/metadata.csv'\n",
    "\n",
    "STACKING_DATA_DIRPATH = 'YOUR/stacking_data/predictions_by_id'\n",
    "STACKING_DATA_DIRPATH = '/mnt/ml-team/minerva/open-solutions/salt/files/stacking_data/predictions_by_id'"
   ]
  },
  {
   "cell_type": "code",
   "execution_count": null,
   "metadata": {},
   "outputs": [],
   "source": [
    "metadata = pd.read_csv(METADATA_FILEPATH)"
   ]
  },
  {
   "cell_type": "code",
   "execution_count": null,
   "metadata": {},
   "outputs": [],
   "source": [
    "metadata.head()"
   ]
  },
  {
   "cell_type": "markdown",
   "metadata": {},
   "source": [
    "# Predicted mask exploration"
   ]
  },
  {
   "cell_type": "code",
   "execution_count": null,
   "metadata": {
    "scrolled": false
   },
   "outputs": [],
   "source": [
    "idx_dirpaths = glob.glob('{}/*'.format(STACKING_DATA_DIRPATH))\n",
    "\n",
    "@ipy.interact(idx=ipy.IntSlider(min=0,max=len(idx_dirpaths)-1, value=0, step=1))\n",
    "def present(idx):\n",
    "    id_data = idx_dirpaths[idx].split('/')[-1]\n",
    "    row = metadata[metadata['id']==id_data]    \n",
    "    image = load_image(row.file_path_image.values[0])\n",
    "    try:\n",
    "        mask = load_image(row.file_path_mask.values[0],is_mask=True)\n",
    "    except AttributeError:\n",
    "        mask = np.zeros_like(image)\n",
    "    predictions=[]\n",
    "    for filepath in glob.glob('{}/*'.format(idx_dirpaths[idx])):\n",
    "        predictions.append(joblib.load(filepath))\n",
    "    l1 = predictions[:5] + [image]\n",
    "    l2 = predictions[5:12]\n",
    "    plot_list(images=l1,labels=[mask])\n",
    "    plot_list(images=l2)\n",
    "    plot_list(images=predictions[14:])"
   ]
  },
  {
   "cell_type": "code",
   "execution_count": null,
   "metadata": {},
   "outputs": [],
   "source": []
  },
  {
   "cell_type": "code",
   "execution_count": null,
   "metadata": {},
   "outputs": [],
   "source": []
  }
 ],
 "metadata": {
  "kernelspec": {
   "display_name": "py_36",
   "language": "python",
   "name": "py_36"
  },
  "language_info": {
   "codemirror_mode": {
    "name": "ipython",
    "version": 3
   },
   "file_extension": ".py",
   "mimetype": "text/x-python",
   "name": "python",
   "nbconvert_exporter": "python",
   "pygments_lexer": "ipython3",
   "version": "3.6.8"
  }
 },
 "nbformat": 4,
 "nbformat_minor": 2
}
