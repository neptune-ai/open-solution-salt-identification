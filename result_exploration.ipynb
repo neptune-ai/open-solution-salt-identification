{
 "cells": [
  {
   "cell_type": "code",
   "execution_count": null,
   "metadata": {},
   "outputs": [],
   "source": [
    "%matplotlib inline\n",
    "\n",
    "import numpy as np\n",
    "import pandas as pd\n",
    "import glob\n",
    "from PIL import Image\n",
    "import matplotlib.pyplot as plt\n",
    "import seaborn as sns\n",
    "from sklearn.externals import joblib\n",
    "from skimage.transform import resize\n",
    "from tqdm import tqdm_notebook as tqdm\n",
    "import ipywidgets as ipy\n",
    "\n",
    "from common_blocks.utils import plot_list, read_images\n",
    "from common_blocks.metrics import compute_ious, compute_eval_metric\n",
    "\n",
    "METADATA_FILEPATH = 'YOUR/metadata.csv'\n",
    "METADATA_FILEPATH = '/mnt/ml-team/minerva/open-solutions/salt/files/metadata.csv'\n",
    "\n",
    "OUT_OF_FOLD_TRAIN_RESULTS_FILEPATH = 'YOUR/validation_results.pkl'\n",
    "OUT_OF_FOLD_TRAIN_RESULTS_FILEPATH = '/mnt/ml-team/minerva/open-solutions/salt/kuba/experiments/sal_907_cv_812_lb_820/out_of_fold_train_predictions.pkl'"
   ]
  },
  {
   "cell_type": "code",
   "execution_count": null,
   "metadata": {},
   "outputs": [],
   "source": [
    "def load_img(path):\n",
    "    img = np.array(Image.open(path))\n",
    "    return img"
   ]
  },
  {
   "cell_type": "code",
   "execution_count": null,
   "metadata": {},
   "outputs": [],
   "source": [
    "metadata = pd.read_csv(METADATA_FILEPATH)\n",
    "\n",
    "oof_train = joblib.load(OUT_OF_FOLD_TRAIN_RESULTS_FILEPATH)\n",
    "ids = oof_train['ids']#[:100]\n",
    "predictions = oof_train['images']#[:100]"
   ]
  },
  {
   "cell_type": "code",
   "execution_count": null,
   "metadata": {},
   "outputs": [],
   "source": [
    "THRESHOLD = 0.5\n",
    "\n",
    "predicted_maps, predicted_masks, masks, images, depths, sizes = [],[],[],[],[],[]\n",
    "for idx, pred in tqdm(zip(ids, predictions)):\n",
    "    row = metadata[metadata['id']==idx]\n",
    "    predicted_map = resize(pred[1,:,:],(101,101),mode='constant')\n",
    "    predicted_mask = (predicted_map > THRESHOLD).astype(int)\n",
    "    image = load_img(row.file_path_image.values[0])\n",
    "    mask = (load_img(row.file_path_mask.values[0]) > 0).astype(int)\n",
    "    depth = row.z.values[0]\n",
    "    size = np.sum(mask)\n",
    "    \n",
    "    images.append(image)\n",
    "    masks.append(mask)\n",
    "    depths.append(depth)\n",
    "    predicted_maps.append(predicted_map)\n",
    "    predicted_masks.append(predicted_mask)\n",
    "    sizes.append(size)"
   ]
  },
  {
   "cell_type": "code",
   "execution_count": null,
   "metadata": {},
   "outputs": [],
   "source": [
    "@ipy.interact(idx = ipy.IntSlider(min=0,max=4000,value=0,step=1))\n",
    "def present(idx=idx):\n",
    "    predicted_map = predicted_maps[idx]\n",
    "    predicted_mask = predicted_masks[idx]\n",
    "    image=images[idx]\n",
    "    mask=masks[idx]\n",
    "    size = sizes[idx]\n",
    "    iout = compute_eval_metric(mask, predicted_mask)\n",
    "    print('IOUT {} size {} depth {}'.format(iout, size, depth))\n",
    "    plot_list(images=[image,predicted_map],labels=[predicted_mask, mask])"
   ]
  },
  {
   "cell_type": "markdown",
   "metadata": {},
   "source": [
    "# Problems\n",
    "\n",
    "1. Symmetric predictions near boundaries (reflection padding ?)\n",
    "\n",
    " **idx**: 3, 10, 26, 41, 42, 43, 45, 47, 48, 122, 125, 126, 128, 137\n",
    " \n",
    "2. Unfilled stuff near boundaries\n",
    "\n",
    " **idx**: 2, 4, 23, 27\n",
    " \n",
    "3. Disconnected components\n",
    "\n",
    " **idx**: 3\n",
    " \n",
    "4. Weird round predictions\n",
    "\n",
    " **idx**: 6\n",
    " \n",
    "5. Unexplained stuff close to boundaries\n",
    "\n",
    " **idx** 32"
   ]
  },
  {
   "cell_type": "markdown",
   "metadata": {},
   "source": [
    "# This will take a while on the entire dataset it is probably better to take a sample"
   ]
  },
  {
   "cell_type": "code",
   "execution_count": null,
   "metadata": {},
   "outputs": [],
   "source": [
    "iouts = [compute_eval_metric(gt, pred) for gt, pred in tqdm(zip(masks, predicted_masks))]\n",
    "results = list(zip(iouts, sizes, depths, images, predicted_masks, predicted_maps, masks))"
   ]
  },
  {
   "cell_type": "markdown",
   "metadata": {},
   "source": [
    "# Score distributions"
   ]
  },
  {
   "cell_type": "code",
   "execution_count": null,
   "metadata": {
    "scrolled": true
   },
   "outputs": [],
   "source": [
    "sns.distplot(iouts)"
   ]
  },
  {
   "cell_type": "markdown",
   "metadata": {},
   "source": [
    "It seems that the model is either really good or really bad.\n",
    "For example:"
   ]
  },
  {
   "cell_type": "code",
   "execution_count": null,
   "metadata": {},
   "outputs": [],
   "source": [
    "print(np.mean([score for score in iouts if score>0.1]))"
   ]
  },
  {
   "cell_type": "markdown",
   "metadata": {},
   "source": [
    "# score by depth"
   ]
  },
  {
   "cell_type": "code",
   "execution_count": null,
   "metadata": {},
   "outputs": [],
   "source": [
    "sns.regplot(depths, iouts, fit_reg=False)"
   ]
  },
  {
   "cell_type": "markdown",
   "metadata": {},
   "source": [
    "# score by size"
   ]
  },
  {
   "cell_type": "code",
   "execution_count": null,
   "metadata": {},
   "outputs": [],
   "source": [
    "sns.regplot(sizes, iouts, fit_reg=False)"
   ]
  },
  {
   "cell_type": "markdown",
   "metadata": {},
   "source": [
    "It seems that the model is better for lower depths.\n",
    "Not sure yet what to do with it."
   ]
  },
  {
   "cell_type": "markdown",
   "metadata": {},
   "source": [
    "# Predicted mask exploration"
   ]
  },
  {
   "cell_type": "code",
   "execution_count": null,
   "metadata": {},
   "outputs": [],
   "source": [
    "def filter_iout(results, iout_range):\n",
    "    iout_min, iout_max = iout_range\n",
    "    results_filtered = []\n",
    "    for tup in results:\n",
    "        if iout_min<=tup[0]<=iout_max:\n",
    "            results_filtered.append(tup)\n",
    "    return results_filtered\n",
    "\n",
    "def filter_size(results, size_range):\n",
    "    size_min, size_max = size_range\n",
    "    results_filtered = []\n",
    "    for tup in results:\n",
    "        if size_min<=tup[1]<=size_max:\n",
    "            results_filtered.append(tup)\n",
    "    return results_filtered"
   ]
  },
  {
   "cell_type": "code",
   "execution_count": null,
   "metadata": {
    "scrolled": false
   },
   "outputs": [],
   "source": [
    "IMG_NR = 10\n",
    "# results_filtered = filter_iout(results, iout_range=(0.0,0.2))\n",
    "results_filtered = filter_size(results, size_range=(1000, 100000))\n",
    "print(len(results_filtered))\n",
    "\n",
    "for iout, s, z, img, pred_mask, pred_map, gt in results_filtered[:IMG_NR]:\n",
    "    print('IOUT {}, size {}, depth {}'.format(iout, s, z))\n",
    "    plot_list(images=[img, pred_map],labels=[pred_mask, gt])"
   ]
  },
  {
   "cell_type": "code",
   "execution_count": null,
   "metadata": {},
   "outputs": [],
   "source": []
  }
 ],
 "metadata": {
  "kernelspec": {
   "display_name": "dl_py3",
   "language": "python",
   "name": "dl_py3"
  },
  "language_info": {
   "codemirror_mode": {
    "name": "ipython",
    "version": 3
   },
   "file_extension": ".py",
   "mimetype": "text/x-python",
   "name": "python",
   "nbconvert_exporter": "python",
   "pygments_lexer": "ipython3",
   "version": "3.5.2"
  }
 },
 "nbformat": 4,
 "nbformat_minor": 2
}
