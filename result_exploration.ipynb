{
 "cells": [
  {
   "cell_type": "code",
   "execution_count": null,
   "metadata": {},
   "outputs": [],
   "source": [
    "%matplotlib inline\n",
    "\n",
    "import numpy as np\n",
    "import pandas as pd\n",
    "import glob\n",
    "from PIL import Image\n",
    "import matplotlib.pyplot as plt\n",
    "import seaborn as sns\n",
    "from sklearn.externals import joblib\n",
    "from skimage.transform import resize\n",
    "from tqdm import tqdm_notebook as tqdm\n",
    "import ipywidgets as ipy\n",
    "\n",
    "from common_blocks.utils import plot_list, read_images\n",
    "from common_blocks.metrics import compute_eval_metric\n",
    "\n",
    "METADATA_FILEPATH = 'YOUR/metadata.csv'\n",
    "OUT_OF_FOLD_TRAIN_RESULTS_FILEPATH = 'YOUR/out_of_fold_train_predictions.pkl'\n",
    "\n",
    "METADATA_FILEPATH = '/mnt/ml-team/minerva/open-solutions/salt/files/metadata.csv'\n",
    "OUT_OF_FOLD_TRAIN_RESULTS_FILEPATH = '/mnt/ml-team/minerva/open-solutions/salt/kuba/experiments/solution_4_test/out_of_fold_train_predictions.pkl'"
   ]
  },
  {
   "cell_type": "code",
   "execution_count": null,
   "metadata": {},
   "outputs": [],
   "source": [
    "def load_img(path):\n",
    "    img = np.array(Image.open(path))\n",
    "    return img\n",
    "\n",
    "def filter_iout(results, iout_range):\n",
    "    iout_min, iout_max = iout_range\n",
    "    results_filtered = []\n",
    "    for tup in results:\n",
    "        if iout_min<=tup[0]<=iout_max:\n",
    "            results_filtered.append(tup)\n",
    "    return results_filtered\n",
    "\n",
    "def filter_size(results, size_range):\n",
    "    size_min, size_max = size_range\n",
    "    results_filtered = []\n",
    "    for tup in results:\n",
    "        if size_min<=tup[1]<=size_max:\n",
    "            results_filtered.append(tup)\n",
    "    return results_filtered"
   ]
  },
  {
   "cell_type": "code",
   "execution_count": null,
   "metadata": {},
   "outputs": [],
   "source": [
    "metadata = pd.read_csv(METADATA_FILEPATH)\n",
    "\n",
    "oof_train = joblib.load(OUT_OF_FOLD_TRAIN_RESULTS_FILEPATH)\n",
    "ids = oof_train['ids']\n",
    "predictions = oof_train['images']"
   ]
  },
  {
   "cell_type": "code",
   "execution_count": null,
   "metadata": {},
   "outputs": [],
   "source": [
    "THRESHOLD = 0.5\n",
    "\n",
    "predicted_maps, predicted_masks, masks, images, depths, sizes = [],[],[],[],[],[]\n",
    "for idx, pred in tqdm(zip(ids, predictions)):\n",
    "    row = metadata[metadata['id']==idx]\n",
    "    predicted_map = resize(pred[1,:,:],(101,101),mode='constant')\n",
    "    predicted_mask = (predicted_map > THRESHOLD).astype(int)\n",
    "    image = load_img(row.file_path_image.values[0])\n",
    "    mask = (load_img(row.file_path_mask.values[0]) > 0).astype(int)\n",
    "    depth = row.z.values[0]\n",
    "    size = np.sum(mask)\n",
    "    \n",
    "    images.append(image)\n",
    "    masks.append(mask)\n",
    "    depths.append(depth)\n",
    "    predicted_maps.append(predicted_map)\n",
    "    predicted_masks.append(predicted_mask)\n",
    "    sizes.append(size)"
   ]
  },
  {
   "cell_type": "code",
   "execution_count": null,
   "metadata": {},
   "outputs": [],
   "source": [
    "iouts = [compute_eval_metric(gt, pred) for gt, pred in tqdm(zip(masks, predicted_masks))]\n",
    "results = list(zip(iouts, sizes, depths, images, predicted_masks, predicted_maps, masks))"
   ]
  },
  {
   "cell_type": "markdown",
   "metadata": {},
   "source": [
    "# Score by size"
   ]
  },
  {
   "cell_type": "code",
   "execution_count": null,
   "metadata": {
    "scrolled": false
   },
   "outputs": [],
   "source": [
    "print('IOUT {:.4f}\\n'.format(np.mean(list(zip(*results))[0])))\n",
    "for size_range in [(0,0),(1,300),(300,1000),(1000,3000),(3000,9000), (9000,10201)]:\n",
    "    results_by_size = filter_size(results, size_range)\n",
    "    iout = np.mean(list(zip(*results_by_size))[0])\n",
    "    sample_size = len(results_by_size)\n",
    "    fraction = len(results_by_size)/len(results)\n",
    "    print('size {} | IOUT {:.4f} | sample nr {} | fraction {} | max gain {:.4f}'.format(size_range, \n",
    "                                                                       iout,\n",
    "                                                                       sample_size, \n",
    "                                                                       fraction,\n",
    "                                                                       (1.0-iout) * fraction\n",
    "                                                                       ))"
   ]
  },
  {
   "cell_type": "markdown",
   "metadata": {},
   "source": [
    "# Predicted mask exploration"
   ]
  },
  {
   "cell_type": "code",
   "execution_count": null,
   "metadata": {
    "scrolled": false
   },
   "outputs": [],
   "source": [
    "results_filtered = results.copy()\n",
    "results_filtered = filter_iout(results_filtered, iout_range=(0.0,0.2))\n",
    "results_filtered = filter_size(results_filtered, size_range=(1, 300))\n",
    "\n",
    "print('sample nr {} fraction {} mean IOUT {}'.format(len(results_filtered), \n",
    "                                                     len(results_filtered)/len(results),\n",
    "                                                     np.mean(list(zip(*results_filtered))[0])))\n",
    "\n",
    "@ipy.interact(idx = ipy.IntSlider(min=0,max=len(results_filtered)-1,value=0,step=1))\n",
    "def present(idx=idx):\n",
    "    iout, s, z, img, pred_mask, pred_map, gt = results_filtered[idx]\n",
    "    print('IOUT {}, size {}, depth {}'.format(iout, s, z))\n",
    "    plot_list(images=[img, pred_map],labels=[pred_mask, gt])"
   ]
  },
  {
   "cell_type": "code",
   "execution_count": null,
   "metadata": {},
   "outputs": [],
   "source": []
  }
 ],
 "metadata": {
  "kernelspec": {
   "display_name": "dl_py3",
   "language": "python",
   "name": "dl_py3"
  },
  "language_info": {
   "codemirror_mode": {
    "name": "ipython",
    "version": 3
   },
   "file_extension": ".py",
   "mimetype": "text/x-python",
   "name": "python",
   "nbconvert_exporter": "python",
   "pygments_lexer": "ipython3",
   "version": "3.5.2"
  }
 },
 "nbformat": 4,
 "nbformat_minor": 2
}
