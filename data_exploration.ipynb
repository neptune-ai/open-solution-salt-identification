{
 "cells": [
  {
   "cell_type": "code",
   "execution_count": null,
   "metadata": {},
   "outputs": [],
   "source": [
    "%matplotlib inline\n",
    "import os\n",
    "\n",
    "import glob\n",
    "import matplotlib.pyplot as plt\n",
    "from PIL import Image\n",
    "import seaborn as sns\n",
    "import ipywidgets as ipy\n",
    "import pandas as pd\n",
    "import numpy as np\n",
    "\n",
    "DATA_DIR = '/mnt/ml-team/minerva/open-solutions/salt/'"
   ]
  },
  {
   "cell_type": "code",
   "execution_count": null,
   "metadata": {},
   "outputs": [],
   "source": [
    "train = pd.read_csv(os.path.join(DATA_DIR,'data','train.csv'))"
   ]
  },
  {
   "cell_type": "code",
   "execution_count": null,
   "metadata": {},
   "outputs": [],
   "source": [
    "train.head()"
   ]
  },
  {
   "cell_type": "code",
   "execution_count": null,
   "metadata": {},
   "outputs": [],
   "source": [
    "depths = pd.read_csv(os.path.join(DATA_DIR,'data','depths.csv'))"
   ]
  },
  {
   "cell_type": "code",
   "execution_count": null,
   "metadata": {},
   "outputs": [],
   "source": [
    "depths.head()"
   ]
  },
  {
   "cell_type": "code",
   "execution_count": null,
   "metadata": {},
   "outputs": [],
   "source": [
    "sns.distplot(depths['z'])"
   ]
  },
  {
   "cell_type": "code",
   "execution_count": null,
   "metadata": {},
   "outputs": [],
   "source": [
    "def img_cumsum(img):\n",
    "    return (np.float32(img) - img.mean()).cumsum(axis=0)\n",
    "\n",
    "def plot(k, z_range):\n",
    "    z_min, z_max = z_range\n",
    "    ids = depths[(depths['z']>z_min) & (depths['z']<z_max)]['id'].tolist()[:k]\n",
    "    for idx in ids:\n",
    "        train_img_filepath= glob.glob('{}/files/train/images/{}*'.format(DATA_DIR, idx))[0]\n",
    "        train_mask_filepath = glob.glob('{}/files/train/masks/{}*'.format(DATA_DIR,idx))[0]\n",
    "        img = np.array(Image.open(train_img_filepath))/255.\n",
    "        mask = np.array(Image.open(train_mask_filepath))/255.\n",
    "        img_cs = img_cumsum(img)\n",
    "        fig, axs = plt.subplots(1,3, figsize=(12,6))\n",
    "        axs[0].imshow(img, cmap='seismic')\n",
    "        axs[1].imshow(img_cs, cmap='seismic')\n",
    "        axs[2].imshow(mask)\n",
    "        plt.show()\n",
    "plot(100, (400,600))"
   ]
  },
  {
   "cell_type": "code",
   "execution_count": null,
   "metadata": {},
   "outputs": [],
   "source": [
    "train_img_filepaths = sorted(glob.glob('{}/files/train/images/*'.format(DATA_DIR)))\n",
    "train_mask_filepaths = sorted(glob.glob('{}/files/train/masks/*'.format(DATA_DIR)))"
   ]
  },
  {
   "cell_type": "code",
   "execution_count": null,
   "metadata": {},
   "outputs": [],
   "source": [
    "@ipy.interact(idx = ipy.IntSlider(min=0,max=len(train_img_filepaths)),value=10,step=1)\n",
    "def plot(idx):\n",
    "    img = Image.open(train_img_filepaths[idx])\n",
    "    mask = Image.open(train_mask_filepaths[idx])\n",
    "    fig, axs = plt.subplots(1,2, figsize=(20,10))\n",
    "    axs[0].imshow(img)\n",
    "    axs[1].imshow(mask)\n",
    "    plt.show()"
   ]
  },
  {
   "cell_type": "markdown",
   "metadata": {},
   "source": [
    "# Train characteristics"
   ]
  },
  {
   "cell_type": "code",
   "execution_count": null,
   "metadata": {},
   "outputs": [],
   "source": [
    "imgs = []\n",
    "for idx in train['id'].tolist():\n",
    "    train_img_filepath= glob.glob('{}/files/train/images/{}*'.format(DATA_DIR, idx))[0]\n",
    "    img = np.array(Image.open(train_img_filepath))/255.\n",
    "    imgs.append(img)"
   ]
  },
  {
   "cell_type": "code",
   "execution_count": null,
   "metadata": {},
   "outputs": [],
   "source": [
    "np.mean(imgs), np.std(imgs)"
   ]
  },
  {
   "cell_type": "code",
   "execution_count": null,
   "metadata": {},
   "outputs": [],
   "source": []
  }
 ],
 "metadata": {
  "kernelspec": {
   "display_name": "dl_py3",
   "language": "python",
   "name": "dl_py3"
  },
  "language_info": {
   "codemirror_mode": {
    "name": "ipython",
    "version": 3
   },
   "file_extension": ".py",
   "mimetype": "text/x-python",
   "name": "python",
   "nbconvert_exporter": "python",
   "pygments_lexer": "ipython3",
   "version": "3.5.2"
  }
 },
 "nbformat": 4,
 "nbformat_minor": 2
}
